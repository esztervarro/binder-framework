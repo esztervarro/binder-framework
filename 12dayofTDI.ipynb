{
 "cells": [
  {
   "cell_type": "code",
   "execution_count": 2,
   "id": "0b228b95",
   "metadata": {},
   "outputs": [],
   "source": [
    "import pandas as pd"
   ]
  },
  {
   "cell_type": "code",
   "execution_count": 111,
   "id": "7e83a8e1",
   "metadata": {},
   "outputs": [],
   "source": [
    "df = pd.read_csv('Value_of_Energy_Cost_Savings_Program_Savings_for_Businesses_-_FY2020.csv')"
   ]
  },
  {
   "cell_type": "code",
   "execution_count": 5,
   "id": "ccee376a",
   "metadata": {},
   "outputs": [
    {
     "data": {
      "text/html": [
       "<div>\n",
       "<style scoped>\n",
       "    .dataframe tbody tr th:only-of-type {\n",
       "        vertical-align: middle;\n",
       "    }\n",
       "\n",
       "    .dataframe tbody tr th {\n",
       "        vertical-align: top;\n",
       "    }\n",
       "\n",
       "    .dataframe thead th {\n",
       "        text-align: right;\n",
       "    }\n",
       "</style>\n",
       "<table border=\"1\" class=\"dataframe\">\n",
       "  <thead>\n",
       "    <tr style=\"text-align: right;\">\n",
       "      <th></th>\n",
       "      <th>Company Name</th>\n",
       "      <th>company contact</th>\n",
       "      <th>company email</th>\n",
       "      <th>company phone</th>\n",
       "      <th>Address</th>\n",
       "      <th>City</th>\n",
       "      <th>State</th>\n",
       "      <th>Postcode</th>\n",
       "      <th>Industry</th>\n",
       "      <th>Industry descr</th>\n",
       "      <th>...</th>\n",
       "      <th>Savings from beginning receiving benefits</th>\n",
       "      <th>Borough</th>\n",
       "      <th>Latitude</th>\n",
       "      <th>Longitude</th>\n",
       "      <th>Community Board</th>\n",
       "      <th>Council District</th>\n",
       "      <th>Census Tract</th>\n",
       "      <th>BIN</th>\n",
       "      <th>BBL</th>\n",
       "      <th>NTA</th>\n",
       "    </tr>\n",
       "  </thead>\n",
       "  <tbody>\n",
       "    <tr>\n",
       "      <th>0</th>\n",
       "      <td>1 State Street</td>\n",
       "      <td>David Neiburg</td>\n",
       "      <td>eskoblo@energyspec.com</td>\n",
       "      <td>7186779077</td>\n",
       "      <td>1114 Avenue J</td>\n",
       "      <td>Brooklyn</td>\n",
       "      <td>NY</td>\n",
       "      <td>11230</td>\n",
       "      <td>Commercial</td>\n",
       "      <td>35 story building</td>\n",
       "      <td>...</td>\n",
       "      <td>349.78</td>\n",
       "      <td>Brooklyn</td>\n",
       "      <td>40.624784</td>\n",
       "      <td>-73.964920</td>\n",
       "      <td>314.0</td>\n",
       "      <td>44.0</td>\n",
       "      <td>534.0</td>\n",
       "      <td>3179818.0</td>\n",
       "      <td>3.067130e+09</td>\n",
       "      <td>Midwood</td>\n",
       "    </tr>\n",
       "    <tr>\n",
       "      <th>1</th>\n",
       "      <td>100 Church LLC</td>\n",
       "      <td>Edward A. Carroll</td>\n",
       "      <td>NaN</td>\n",
       "      <td>2125663000</td>\n",
       "      <td>100 Church Street</td>\n",
       "      <td>NY</td>\n",
       "      <td>NY</td>\n",
       "      <td>10007</td>\n",
       "      <td>Commercial</td>\n",
       "      <td>21 Floors</td>\n",
       "      <td>...</td>\n",
       "      <td>4,423,698.05</td>\n",
       "      <td>New York</td>\n",
       "      <td>40.712968</td>\n",
       "      <td>-74.009490</td>\n",
       "      <td>101.0</td>\n",
       "      <td>1.0</td>\n",
       "      <td>21.0</td>\n",
       "      <td>1001409.0</td>\n",
       "      <td>1.001250e+09</td>\n",
       "      <td>SoHo-TriBeCa-Civic Center-Little Italy</td>\n",
       "    </tr>\n",
       "    <tr>\n",
       "      <th>2</th>\n",
       "      <td>100 Wall Investments</td>\n",
       "      <td>Jerry Branam</td>\n",
       "      <td>NaN</td>\n",
       "      <td>2122487160</td>\n",
       "      <td>96 Wall Street</td>\n",
       "      <td>New York</td>\n",
       "      <td>NY</td>\n",
       "      <td>10005</td>\n",
       "      <td>Landlord</td>\n",
       "      <td>NaN</td>\n",
       "      <td>...</td>\n",
       "      <td>1,814,542.62</td>\n",
       "      <td>New York</td>\n",
       "      <td>40.705052</td>\n",
       "      <td>-74.007199</td>\n",
       "      <td>101.0</td>\n",
       "      <td>1.0</td>\n",
       "      <td>7.0</td>\n",
       "      <td>1000875.0</td>\n",
       "      <td>1.000380e+09</td>\n",
       "      <td>Battery Park City-Lower Manhattan</td>\n",
       "    </tr>\n",
       "    <tr>\n",
       "      <th>3</th>\n",
       "      <td>1-10 Bush Terminal Owner LP</td>\n",
       "      <td>Andrew Kimball</td>\n",
       "      <td>akimball@industrycity.com</td>\n",
       "      <td>3474178429</td>\n",
       "      <td>220 36th St, Suite 2A</td>\n",
       "      <td>Brooklyn</td>\n",
       "      <td>NY</td>\n",
       "      <td>11232</td>\n",
       "      <td>Landlord</td>\n",
       "      <td>Special Eligible Premises for eligible businesses</td>\n",
       "      <td>...</td>\n",
       "      <td>6,755.31</td>\n",
       "      <td>Brooklyn</td>\n",
       "      <td>40.656061</td>\n",
       "      <td>-74.007334</td>\n",
       "      <td>307.0</td>\n",
       "      <td>38.0</td>\n",
       "      <td>2.0</td>\n",
       "      <td>3398687.0</td>\n",
       "      <td>3.006950e+09</td>\n",
       "      <td>Sunset Park West</td>\n",
       "    </tr>\n",
       "    <tr>\n",
       "      <th>4</th>\n",
       "      <td>120 Broadway Acquisitions JV, LLC (Ldmk)</td>\n",
       "      <td>Carl Letich</td>\n",
       "      <td>clettich@silvprop.com</td>\n",
       "      <td>2124064020</td>\n",
       "      <td>120 Broadway</td>\n",
       "      <td>New York</td>\n",
       "      <td>NY</td>\n",
       "      <td>10271</td>\n",
       "      <td>Commercial</td>\n",
       "      <td>NaN</td>\n",
       "      <td>...</td>\n",
       "      <td>3,293,055.08</td>\n",
       "      <td>New York</td>\n",
       "      <td>40.708546</td>\n",
       "      <td>-74.011041</td>\n",
       "      <td>101.0</td>\n",
       "      <td>1.0</td>\n",
       "      <td>7.0</td>\n",
       "      <td>1001026.0</td>\n",
       "      <td>1.000478e+09</td>\n",
       "      <td>Battery Park City-Lower Manhattan</td>\n",
       "    </tr>\n",
       "  </tbody>\n",
       "</table>\n",
       "<p>5 rows × 26 columns</p>\n",
       "</div>"
      ],
      "text/plain": [
       "                               Company Name    company contact  \\\n",
       "0                            1 State Street      David Neiburg   \n",
       "1                            100 Church LLC  Edward A. Carroll   \n",
       "2                      100 Wall Investments       Jerry Branam   \n",
       "3               1-10 Bush Terminal Owner LP     Andrew Kimball   \n",
       "4  120 Broadway Acquisitions JV, LLC (Ldmk)        Carl Letich   \n",
       "\n",
       "               company email company phone                Address      City  \\\n",
       "0     eskoblo@energyspec.com    7186779077          1114 Avenue J  Brooklyn   \n",
       "1                        NaN    2125663000      100 Church Street        NY   \n",
       "2                        NaN    2122487160         96 Wall Street  New York   \n",
       "3  akimball@industrycity.com    3474178429  220 36th St, Suite 2A  Brooklyn   \n",
       "4      clettich@silvprop.com    2124064020           120 Broadway  New York   \n",
       "\n",
       "  State  Postcode    Industry  \\\n",
       "0    NY     11230  Commercial   \n",
       "1    NY     10007  Commercial   \n",
       "2    NY     10005    Landlord   \n",
       "3    NY     11232    Landlord   \n",
       "4    NY     10271  Commercial   \n",
       "\n",
       "                                      Industry descr  ...  \\\n",
       "0                                  35 story building  ...   \n",
       "1                                          21 Floors  ...   \n",
       "2                                                NaN  ...   \n",
       "3  Special Eligible Premises for eligible businesses  ...   \n",
       "4                                                NaN  ...   \n",
       "\n",
       "  Savings from beginning receiving benefits   Borough   Latitude  Longitude  \\\n",
       "0                                    349.78  Brooklyn  40.624784 -73.964920   \n",
       "1                              4,423,698.05  New York  40.712968 -74.009490   \n",
       "2                              1,814,542.62  New York  40.705052 -74.007199   \n",
       "3                                  6,755.31  Brooklyn  40.656061 -74.007334   \n",
       "4                              3,293,055.08  New York  40.708546 -74.011041   \n",
       "\n",
       "  Community Board Council District Census Tract        BIN           BBL  \\\n",
       "0           314.0             44.0        534.0  3179818.0  3.067130e+09   \n",
       "1           101.0              1.0         21.0  1001409.0  1.001250e+09   \n",
       "2           101.0              1.0          7.0  1000875.0  1.000380e+09   \n",
       "3           307.0             38.0          2.0  3398687.0  3.006950e+09   \n",
       "4           101.0              1.0          7.0  1001026.0  1.000478e+09   \n",
       "\n",
       "                                      NTA  \n",
       "0                                 Midwood  \n",
       "1  SoHo-TriBeCa-Civic Center-Little Italy  \n",
       "2       Battery Park City-Lower Manhattan  \n",
       "3                        Sunset Park West  \n",
       "4       Battery Park City-Lower Manhattan  \n",
       "\n",
       "[5 rows x 26 columns]"
      ]
     },
     "execution_count": 5,
     "metadata": {},
     "output_type": "execute_result"
    }
   ],
   "source": [
    "df.head()"
   ]
  },
  {
   "cell_type": "code",
   "execution_count": 15,
   "id": "17f8ad7b",
   "metadata": {},
   "outputs": [
    {
     "data": {
      "text/plain": [
       "Company Name\n",
       "FEDERAL EXPRESS                            3\n",
       "SILVERCUP Services LLC                     2\n",
       "Albert Einstein College of Medicine R&D    2\n",
       "MEDITERRANEAN GYRO PRODUCTS                2\n",
       "Spin Master, Inc.                          2\n",
       "                                          ..\n",
       "EMG Media, Inc.                            1\n",
       "EDISON PRICE, INC.                         1\n",
       "EASTERN CONCEPTS, INC.                     1\n",
       "E. J. York, Inc.                           1\n",
       "gCreate LLC                                1\n",
       "Length: 439, dtype: int64"
      ]
     },
     "execution_count": 15,
     "metadata": {},
     "output_type": "execute_result"
    }
   ],
   "source": [
    "df.value_counts(df['Company Name'])"
   ]
  },
  {
   "cell_type": "code",
   "execution_count": 12,
   "id": "a8e6f4ac",
   "metadata": {},
   "outputs": [
    {
     "data": {
      "text/plain": [
       "<bound method IndexOpsMixin.nunique of 0                                1 State Street\n",
       "1                                100 Church LLC\n",
       "2                          100 Wall Investments\n",
       "3                   1-10 Bush Terminal Owner LP\n",
       "4      120 Broadway Acquisitions JV, LLC (Ldmk)\n",
       "                         ...                   \n",
       "445                           WONTON FOOD, INC.\n",
       "446                                  Wood Works\n",
       "447             WorldWide Plumbing Supply, Inc.\n",
       "448                           WUD Furniture LLC\n",
       "449                         Wurtec Incorporated\n",
       "Name: Company Name, Length: 450, dtype: object>"
      ]
     },
     "execution_count": 12,
     "metadata": {},
     "output_type": "execute_result"
    }
   ],
   "source": [
    "df['Company Name'].nunique"
   ]
  },
  {
   "cell_type": "code",
   "execution_count": 19,
   "id": "fddc454b",
   "metadata": {},
   "outputs": [],
   "source": [
    "df_Queens = df[(df['City'] == 'Queens')]"
   ]
  },
  {
   "cell_type": "code",
   "execution_count": 18,
   "id": "f9aa7ab6",
   "metadata": {},
   "outputs": [
    {
     "data": {
      "text/plain": [
       "Index(['Company Name', 'company contact', 'company email', 'company phone',\n",
       "       'Address', 'City', 'State', 'Postcode', 'Industry', 'Industry descr',\n",
       "       'Company Type', 'Current fulltime', 'Job created', 'Job retain',\n",
       "       'Effective Date', 'Total Savings',\n",
       "       'Savings from beginning receiving benefits', 'Borough', 'Latitude',\n",
       "       'Longitude', 'Community Board', 'Council District', 'Census Tract',\n",
       "       'BIN', 'BBL', 'NTA'],\n",
       "      dtype='object')"
      ]
     },
     "execution_count": 18,
     "metadata": {},
     "output_type": "execute_result"
    }
   ],
   "source": [
    "df.columns"
   ]
  },
  {
   "cell_type": "code",
   "execution_count": 32,
   "id": "c1ab7bef",
   "metadata": {},
   "outputs": [
    {
     "data": {
      "text/plain": [
       "90.0"
      ]
     },
     "execution_count": 32,
     "metadata": {},
     "output_type": "execute_result"
    }
   ],
   "source": [
    "df_Queens['Job created'].sum(skipna = True)\n"
   ]
  },
  {
   "cell_type": "code",
   "execution_count": 37,
   "id": "978cc03b",
   "metadata": {},
   "outputs": [],
   "source": [
    "company_email = df.dropna(subset = ['company email'])"
   ]
  },
  {
   "cell_type": "code",
   "execution_count": 52,
   "id": "8e71b9d6",
   "metadata": {},
   "outputs": [],
   "source": [
    "domains = company_email['company email'].str.split('@')"
   ]
  },
  {
   "cell_type": "code",
   "execution_count": 79,
   "id": "6c820c01",
   "metadata": {},
   "outputs": [],
   "source": [
    "domains_list = domains.str[1].values"
   ]
  },
  {
   "cell_type": "code",
   "execution_count": 82,
   "id": "d87d0cae",
   "metadata": {},
   "outputs": [
    {
     "data": {
      "text/plain": [
       "357"
      ]
     },
     "execution_count": 82,
     "metadata": {},
     "output_type": "execute_result"
    }
   ],
   "source": [
    "len(set(domains_list))"
   ]
  },
  {
   "cell_type": "code",
   "execution_count": 118,
   "id": "b6a465fe",
   "metadata": {},
   "outputs": [],
   "source": [
    "vc = df.NTA.value_counts()"
   ]
  },
  {
   "cell_type": "code",
   "execution_count": 122,
   "id": "6f3628e2",
   "metadata": {},
   "outputs": [],
   "source": [
    "df_NTA_above5 = df[df.NTA.isin(vc.index[vc.gt(4)])]"
   ]
  },
  {
   "cell_type": "code",
   "execution_count": 123,
   "id": "96211406",
   "metadata": {},
   "outputs": [],
   "source": [
    "total_jobs = df_NTA_above5.groupby(['NTA'])['Job created'].sum()"
   ]
  },
  {
   "cell_type": "code",
   "execution_count": 124,
   "id": "4169d931",
   "metadata": {},
   "outputs": [
    {
     "data": {
      "text/plain": [
       "NTA\n",
       "Battery Park City-Lower Manhattan                    0.0\n",
       "Bushwick South                                      10.0\n",
       "Carroll Gardens-Columbia Street-Red Hook             0.0\n",
       "College Point                                        2.0\n",
       "Crown Heights North                                  0.0\n",
       "DUMBO-Vinegar Hill-Downtown Brooklyn-Boerum Hill     0.0\n",
       "East New York                                       15.0\n",
       "East Williamsburg                                    0.0\n",
       "Greenpoint                                           0.0\n",
       "Hunters Point-Sunnyside-West Maspeth                 0.0\n",
       "Hunts Point                                         12.0\n",
       "Manhattanville                                       0.0\n",
       "Maspeth                                             10.0\n",
       "Mott Haven-Port Morris                              10.0\n",
       "Queensbridge-Ravenswood-Long Island City             0.0\n",
       "SoHo-TriBeCa-Civic Center-Little Italy               0.0\n",
       "Springfield Gardens South-Brookville                 0.0\n",
       "Steinway                                            20.0\n",
       "Sunset Park West                                     0.0\n",
       "park-cemetery-etc-Brooklyn                           0.0\n",
       "Name: Job created, dtype: float64"
      ]
     },
     "execution_count": 124,
     "metadata": {},
     "output_type": "execute_result"
    }
   ],
   "source": [
    "total_jobs"
   ]
  },
  {
   "cell_type": "code",
   "execution_count": 133,
   "id": "0941da54",
   "metadata": {},
   "outputs": [
    {
     "name": "stderr",
     "output_type": "stream",
     "text": [
      "C:\\Users\\galen\\AppData\\Local\\Temp\\ipykernel_17424\\4224248558.py:1: SettingWithCopyWarning: \n",
      "A value is trying to be set on a copy of a slice from a DataFrame.\n",
      "Try using .loc[row_indexer,col_indexer] = value instead\n",
      "\n",
      "See the caveats in the documentation: https://pandas.pydata.org/pandas-docs/stable/user_guide/indexing.html#returning-a-view-versus-a-copy\n",
      "  df_NTA_above5['Total Savings'] = df_NTA_above5['Total Savings'].str.replace(',', '').astype(float)\n"
     ]
    }
   ],
   "source": [
    "df_NTA_above5['Total Savings'] = df_NTA_above5['Total Savings'].str.replace(',', '').astype(float)"
   ]
  },
  {
   "cell_type": "code",
   "execution_count": 134,
   "id": "b521db62",
   "metadata": {},
   "outputs": [],
   "source": [
    "total_savings = df_NTA_above5.groupby(['NTA'])['Total Savings'].sum()"
   ]
  },
  {
   "cell_type": "code",
   "execution_count": 135,
   "id": "2a333d7d",
   "metadata": {},
   "outputs": [
    {
     "data": {
      "text/plain": [
       "NTA\n",
       "Battery Park City-Lower Manhattan                   4229017.17\n",
       "Bushwick South                                       261404.55\n",
       "Carroll Gardens-Columbia Street-Red Hook             267711.29\n",
       "College Point                                        120115.61\n",
       "Crown Heights North                                   36326.69\n",
       "DUMBO-Vinegar Hill-Downtown Brooklyn-Boerum Hill     599503.40\n",
       "East New York                                        435897.84\n",
       "East Williamsburg                                    153896.89\n",
       "Greenpoint                                           136551.09\n",
       "Hunters Point-Sunnyside-West Maspeth                1794854.92\n",
       "Hunts Point                                          510198.21\n",
       "Manhattanville                                        24848.00\n",
       "Maspeth                                               59924.55\n",
       "Mott Haven-Port Morris                               249815.13\n",
       "Queensbridge-Ravenswood-Long Island City             989292.33\n",
       "SoHo-TriBeCa-Civic Center-Little Italy               186070.12\n",
       "Springfield Gardens South-Brookville                  88788.31\n",
       "Steinway                                              78590.09\n",
       "Sunset Park West                                     687214.89\n",
       "park-cemetery-etc-Brooklyn                           214911.29\n",
       "Name: Total Savings, dtype: float64"
      ]
     },
     "execution_count": 135,
     "metadata": {},
     "output_type": "execute_result"
    }
   ],
   "source": [
    "total_savings"
   ]
  },
  {
   "cell_type": "code",
   "execution_count": 136,
   "id": "1e41501b",
   "metadata": {},
   "outputs": [],
   "source": [
    "total_savings.to_csv('total_savings.csv')"
   ]
  },
  {
   "cell_type": "code",
   "execution_count": 137,
   "id": "03284acb",
   "metadata": {},
   "outputs": [],
   "source": [
    "total_jobs.to_csv('total_jobs.csv')"
   ]
  },
  {
   "cell_type": "code",
   "execution_count": 139,
   "id": "c25a0e24",
   "metadata": {},
   "outputs": [],
   "source": [
    "import matplotlib.pyplot as plt\n",
    "import numpy as np\n",
    "import seaborn as sns"
   ]
  },
  {
   "cell_type": "code",
   "execution_count": 142,
   "id": "2363efa2",
   "metadata": {},
   "outputs": [
    {
     "data": {
      "text/plain": [
       "<AxesSubplot:xlabel='Total Savings', ylabel='Job created'>"
      ]
     },
     "execution_count": 142,
     "metadata": {},
     "output_type": "execute_result"
    },
    {
     "data": {
      "image/png": "[encoded data removed]",
      "text/plain": [
       "<Figure size 432x288 with 1 Axes>"
      ]
     },
     "metadata": {
      "needs_background": "light"
     },
     "output_type": "display_data"
    }
   ],
   "source": [
    "sns.scatterplot(x='Total Savings', y='Job created', data=df)"
   ]
  },
  {
   "cell_type": "code",
   "execution_count": 146,
   "id": "1f55de94",
   "metadata": {},
   "outputs": [
    {
     "data": {
      "image/png": "[encoded data removed]",
      "text/plain": [
       "<Figure size 432x288 with 1 Axes>"
      ]
     },
     "metadata": {
      "needs_background": "light"
     },
     "output_type": "display_data"
    }
   ],
   "source": [
    "fig = plt.figure()\n",
    "ax = plt.gca()\n",
    "ax.scatter(df['Job created'] ,df['Total Savings'] , c='red')\n",
    "ax.set_yscale('log')\n",
    "#ax.set_xscale('log')"
   ]
  },
  {
   "cell_type": "code",
   "execution_count": 149,
   "id": "2fa917bb",
   "metadata": {},
   "outputs": [
    {
     "data": {
      "image/png": "[encoded data removed]",
      "text/plain": [
       "<Figure size 432x288 with 1 Axes>"
      ]
     },
     "metadata": {
      "needs_background": "light"
     },
     "output_type": "display_data"
    }
   ],
   "source": [
    "plt.hist(df['Total Savings'], log = True)\n",
    "\n",
    "# Add some formatting to the plot:\n",
    "plt.xlabel('Total Savings')\n",
    "plt.title('Total Savings');"
   ]
  },
  {
   "cell_type": "code",
   "execution_count": 189,
   "id": "ab8b3eaf",
   "metadata": {},
   "outputs": [],
   "source": [
    "df_line = df[['Effective Date','Job created']].dropna()"
   ]
  },
  {
   "cell_type": "code",
   "execution_count": 169,
   "id": "41296ef2",
   "metadata": {},
   "outputs": [
    {
     "data": {
      "text/html": [
       "<div>\n",
       "<style scoped>\n",
       "    .dataframe tbody tr th:only-of-type {\n",
       "        vertical-align: middle;\n",
       "    }\n",
       "\n",
       "    .dataframe tbody tr th {\n",
       "        vertical-align: top;\n",
       "    }\n",
       "\n",
       "    .dataframe thead th {\n",
       "        text-align: right;\n",
       "    }\n",
       "</style>\n",
       "<table border=\"1\" class=\"dataframe\">\n",
       "  <thead>\n",
       "    <tr style=\"text-align: right;\">\n",
       "      <th></th>\n",
       "      <th>Effective Date</th>\n",
       "      <th>Job created</th>\n",
       "    </tr>\n",
       "  </thead>\n",
       "  <tbody>\n",
       "    <tr>\n",
       "      <th>29</th>\n",
       "      <td>2004-03-05</td>\n",
       "      <td>10.0</td>\n",
       "    </tr>\n",
       "    <tr>\n",
       "      <th>37</th>\n",
       "      <td>2007-06-28</td>\n",
       "      <td>60.0</td>\n",
       "    </tr>\n",
       "    <tr>\n",
       "      <th>95</th>\n",
       "      <td>2007-11-06</td>\n",
       "      <td>5.0</td>\n",
       "    </tr>\n",
       "    <tr>\n",
       "      <th>120</th>\n",
       "      <td>2005-02-03</td>\n",
       "      <td>12.0</td>\n",
       "    </tr>\n",
       "    <tr>\n",
       "      <th>137</th>\n",
       "      <td>2006-03-01</td>\n",
       "      <td>10.0</td>\n",
       "    </tr>\n",
       "  </tbody>\n",
       "</table>\n",
       "</div>"
      ],
      "text/plain": [
       "    Effective Date  Job created\n",
       "29      2004-03-05         10.0\n",
       "37      2007-06-28         60.0\n",
       "95      2007-11-06          5.0\n",
       "120     2005-02-03         12.0\n",
       "137     2006-03-01         10.0"
      ]
     },
     "execution_count": 169,
     "metadata": {},
     "output_type": "execute_result"
    }
   ],
   "source": [
    "df_line.head()"
   ]
  },
  {
   "cell_type": "code",
   "execution_count": 168,
   "id": "95ed6498",
   "metadata": {},
   "outputs": [
    {
     "data": {
      "text/plain": [
       "Effective Date    datetime64[ns]\n",
       "Job created              float64\n",
       "dtype: object"
      ]
     },
     "execution_count": 168,
     "metadata": {},
     "output_type": "execute_result"
    }
   ],
   "source": [
    "df_line.dtypes"
   ]
  },
  {
   "cell_type": "code",
   "execution_count": 190,
   "id": "14aa15d7",
   "metadata": {},
   "outputs": [],
   "source": [
    "df_line['Effective Date'] = pd.to_datetime(df['Effective Date'])"
   ]
  },
  {
   "cell_type": "code",
   "execution_count": 191,
   "id": "605d94fe",
   "metadata": {},
   "outputs": [],
   "source": [
    "df_line = df_line.sort_values(by = ['Effective Date'])"
   ]
  },
  {
   "cell_type": "code",
   "execution_count": 172,
   "id": "683c3837",
   "metadata": {},
   "outputs": [
    {
     "data": {
      "text/html": [
       "<div>\n",
       "<style scoped>\n",
       "    .dataframe tbody tr th:only-of-type {\n",
       "        vertical-align: middle;\n",
       "    }\n",
       "\n",
       "    .dataframe tbody tr th {\n",
       "        vertical-align: top;\n",
       "    }\n",
       "\n",
       "    .dataframe thead th {\n",
       "        text-align: right;\n",
       "    }\n",
       "</style>\n",
       "<table border=\"1\" class=\"dataframe\">\n",
       "  <thead>\n",
       "    <tr style=\"text-align: right;\">\n",
       "      <th></th>\n",
       "      <th>Effective Date</th>\n",
       "      <th>Job created</th>\n",
       "    </tr>\n",
       "  </thead>\n",
       "  <tbody>\n",
       "    <tr>\n",
       "      <th>414</th>\n",
       "      <td>1993-02-05</td>\n",
       "      <td>15.0</td>\n",
       "    </tr>\n",
       "    <tr>\n",
       "      <th>29</th>\n",
       "      <td>2004-03-05</td>\n",
       "      <td>10.0</td>\n",
       "    </tr>\n",
       "    <tr>\n",
       "      <th>120</th>\n",
       "      <td>2005-02-03</td>\n",
       "      <td>12.0</td>\n",
       "    </tr>\n",
       "    <tr>\n",
       "      <th>137</th>\n",
       "      <td>2006-03-01</td>\n",
       "      <td>10.0</td>\n",
       "    </tr>\n",
       "    <tr>\n",
       "      <th>353</th>\n",
       "      <td>2007-04-10</td>\n",
       "      <td>2.0</td>\n",
       "    </tr>\n",
       "    <tr>\n",
       "      <th>324</th>\n",
       "      <td>2007-05-02</td>\n",
       "      <td>2.0</td>\n",
       "    </tr>\n",
       "    <tr>\n",
       "      <th>432</th>\n",
       "      <td>2007-06-08</td>\n",
       "      <td>3.0</td>\n",
       "    </tr>\n",
       "    <tr>\n",
       "      <th>37</th>\n",
       "      <td>2007-06-28</td>\n",
       "      <td>60.0</td>\n",
       "    </tr>\n",
       "    <tr>\n",
       "      <th>433</th>\n",
       "      <td>2007-07-02</td>\n",
       "      <td>20.0</td>\n",
       "    </tr>\n",
       "    <tr>\n",
       "      <th>95</th>\n",
       "      <td>2007-11-06</td>\n",
       "      <td>5.0</td>\n",
       "    </tr>\n",
       "    <tr>\n",
       "      <th>445</th>\n",
       "      <td>2008-12-09</td>\n",
       "      <td>10.0</td>\n",
       "    </tr>\n",
       "  </tbody>\n",
       "</table>\n",
       "</div>"
      ],
      "text/plain": [
       "    Effective Date  Job created\n",
       "414     1993-02-05         15.0\n",
       "29      2004-03-05         10.0\n",
       "120     2005-02-03         12.0\n",
       "137     2006-03-01         10.0\n",
       "353     2007-04-10          2.0\n",
       "324     2007-05-02          2.0\n",
       "432     2007-06-08          3.0\n",
       "37      2007-06-28         60.0\n",
       "433     2007-07-02         20.0\n",
       "95      2007-11-06          5.0\n",
       "445     2008-12-09         10.0"
      ]
     },
     "execution_count": 172,
     "metadata": {},
     "output_type": "execute_result"
    }
   ],
   "source": [
    "df_line.head(15)"
   ]
  },
  {
   "cell_type": "code",
   "execution_count": 192,
   "id": "41f561a0",
   "metadata": {},
   "outputs": [],
   "source": [
    "df_line['month_year'] = pd.to_datetime(df_line['Effective Date']).dt.to_period('M')"
   ]
  },
  {
   "cell_type": "code",
   "execution_count": 193,
   "id": "e2b69330",
   "metadata": {},
   "outputs": [],
   "source": [
    "df_line = df_line.drop('Effective Date', axis = 1)"
   ]
  },
  {
   "cell_type": "code",
   "execution_count": 194,
   "id": "618eb8f3",
   "metadata": {},
   "outputs": [],
   "source": [
    "df_line = df_line.reset_index()"
   ]
  },
  {
   "cell_type": "code",
   "execution_count": 195,
   "id": "f35e4cf4",
   "metadata": {},
   "outputs": [],
   "source": [
    "df_line = df_line.drop('index', axis = 1)"
   ]
  },
  {
   "cell_type": "code",
   "execution_count": 196,
   "id": "6f583fbe",
   "metadata": {},
   "outputs": [
    {
     "data": {
      "text/html": [
       "<div>\n",
       "<style scoped>\n",
       "    .dataframe tbody tr th:only-of-type {\n",
       "        vertical-align: middle;\n",
       "    }\n",
       "\n",
       "    .dataframe tbody tr th {\n",
       "        vertical-align: top;\n",
       "    }\n",
       "\n",
       "    .dataframe thead th {\n",
       "        text-align: right;\n",
       "    }\n",
       "</style>\n",
       "<table border=\"1\" class=\"dataframe\">\n",
       "  <thead>\n",
       "    <tr style=\"text-align: right;\">\n",
       "      <th></th>\n",
       "      <th>Job created</th>\n",
       "      <th>month_year</th>\n",
       "    </tr>\n",
       "  </thead>\n",
       "  <tbody>\n",
       "    <tr>\n",
       "      <th>0</th>\n",
       "      <td>15.0</td>\n",
       "      <td>1993-02</td>\n",
       "    </tr>\n",
       "    <tr>\n",
       "      <th>1</th>\n",
       "      <td>10.0</td>\n",
       "      <td>2004-03</td>\n",
       "    </tr>\n",
       "    <tr>\n",
       "      <th>2</th>\n",
       "      <td>12.0</td>\n",
       "      <td>2005-02</td>\n",
       "    </tr>\n",
       "    <tr>\n",
       "      <th>3</th>\n",
       "      <td>10.0</td>\n",
       "      <td>2006-03</td>\n",
       "    </tr>\n",
       "    <tr>\n",
       "      <th>4</th>\n",
       "      <td>2.0</td>\n",
       "      <td>2007-04</td>\n",
       "    </tr>\n",
       "  </tbody>\n",
       "</table>\n",
       "</div>"
      ],
      "text/plain": [
       "   Job created month_year\n",
       "0         15.0    1993-02\n",
       "1         10.0    2004-03\n",
       "2         12.0    2005-02\n",
       "3         10.0    2006-03\n",
       "4          2.0    2007-04"
      ]
     },
     "execution_count": 196,
     "metadata": {},
     "output_type": "execute_result"
    }
   ],
   "source": [
    "df_line.head()"
   ]
  },
  {
   "cell_type": "code",
   "execution_count": 205,
   "id": "184ffe9c",
   "metadata": {},
   "outputs": [],
   "source": [
    "df_line_groupby = df_line.groupby('month_year').sum()"
   ]
  },
  {
   "cell_type": "code",
   "execution_count": 208,
   "id": "003444e4",
   "metadata": {},
   "outputs": [
    {
     "data": {
      "text/plain": [
       "<AxesSubplot:xlabel='month_year'>"
      ]
     },
     "execution_count": 208,
     "metadata": {},
     "output_type": "execute_result"
    },
    {
     "data": {
      "image/png": "[encoded data removed]",
      "text/plain": [
       "<Figure size 432x288 with 1 Axes>"
      ]
     },
     "metadata": {
      "needs_background": "light"
     },
     "output_type": "display_data"
    }
   ],
   "source": [
    "df_line_groupby['Job created'].plot(kind='line', legend=True)"
   ]
  },
  {
   "cell_type": "code",
   "execution_count": null,
   "id": "5e3c27da",
   "metadata": {},
   "outputs": [],
   "source": []
  }
 ],
 "metadata": {
  "kernelspec": {
   "display_name": "Python 3 (ipykernel)",
   "language": "python",
   "name": "python3"
  },
  "language_info": {
   "codemirror_mode": {
    "name": "ipython",
    "version": 3
   },
   "file_extension": ".py",
   "mimetype": "text/x-python",
   "name": "python",
   "nbconvert_exporter": "python",
   "pygments_lexer": "ipython3",
   "version": "3.9.12"
  }
 },
 "nbformat": 4,
 "nbformat_minor": 5
}
